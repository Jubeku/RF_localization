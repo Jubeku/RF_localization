{
 "cells": [
  {
   "cell_type": "code",
   "execution_count": 1,
   "metadata": {},
   "outputs": [],
   "source": [
    "import numpy as np\n",
    "import matplotlib.pyplot as plt\n",
    "import pandas as pd\n",
    "from scipy import optimize\n",
    "from tqdm import tqdm"
   ]
  },
  {
   "cell_type": "code",
   "execution_count": 2,
   "metadata": {},
   "outputs": [],
   "source": [
    "def calc_prob(channels, ydim, xdim, freqID, src_ID, noise, noise_level):\n",
    "    \n",
    "    ref = 'BON'\n",
    "    \n",
    "    #Pre-allocate array with probabilities\n",
    "    probs_tw = np.zeros((xdim*ydim))\n",
    "    \n",
    "    # Energy ratios are calculated for each component in respect to the chosen\n",
    "    # reference station\n",
    "    for ch in channels:\n",
    "        \n",
    "        # Energy ratios from simulated signal\n",
    "        if ch == 'Z':\n",
    "            direc_comp = 'data/simu/vertZ/'\n",
    "        elif ch == 'E':\n",
    "            direc_comp = 'data/simu/horzE/'\n",
    "        elif ch == 'N':\n",
    "            direc_comp = 'data/simu/horzN/'\n",
    "            \n",
    "            \n",
    "        if ch == 'Z':\n",
    "            stas_name = ['BOR', 'DSO', 'SNE']\n",
    "        else:\n",
    "            stas_name = ['BOR', 'SNE']\n",
    "\n",
    "        nRatios = len(stas_name)\n",
    "        ratio_obs = np.zeros(nRatios)   \n",
    "        \n",
    "        path_simu_ref = direc_comp + ref + '/' \n",
    "        energy_simu_ref = np.loadtxt(path_simu_ref + freqID + '/energy_Fz.txt')\n",
    "        #observed energy\n",
    "        energy_curr_ref  = energy_simu_ref[src_ID]\n",
    "        if noise:\n",
    "            energy_curr_ref += np.abs(np.random.normal(0,noise_level))\n",
    "        #simulated energy catalogue\n",
    "        ###energy_simu_ref = np.reshape(energy_simu_ref,(ydim,xdim))\n",
    "        ratios_simu = np.zeros((ydim*xdim,nRatios)) \n",
    "        \n",
    "        for idxSrc, sta in enumerate(stas_name):\n",
    "            path_simu = direc_comp  + sta + '/' \n",
    "            energy_simu = np.loadtxt(path_simu + freqID + '/energy_Fz.txt')\n",
    "            #observed energy\n",
    "            energy_curr = energy_simu[src_ID] \n",
    "            if noise:\n",
    "                energy_curr += np.abs(np.random.normal(0,noise_level))\n",
    "            ratio_obs[idxSrc] = energy_curr/energy_curr_ref\n",
    "            #simulated energy catalogue\n",
    "            ###energy_simu = np.reshape(energy_simu,(ydim,xdim))\n",
    "            ratios_simu[:,idxSrc] = energy_simu/energy_simu_ref\n",
    "                    \n",
    "        # Error between observed and simulated energy ratios\n",
    "        for ii in range(xdim*ydim):\n",
    "            for kk in range(nRatios):\n",
    "                probs_tw[ii] += 1./nRatios * (\n",
    "                    np.abs(np.log10(ratios_simu[ii,kk]/ratio_obs[kk])))\n",
    "\n",
    "    # Probability is defined as inverse of error, normalized by \n",
    "    # number of channels\n",
    "    probs_tw = 1./(probs_tw/len(channels))\n",
    "\n",
    "    return(probs_tw)"
   ]
  },
  {
   "cell_type": "code",
   "execution_count": 3,
   "metadata": {},
   "outputs": [],
   "source": [
    "def exponential(x, a, k, b):\n",
    "    return a*np.exp(x*k) + b"
   ]
  },
  {
   "cell_type": "code",
   "execution_count": 10,
   "metadata": {},
   "outputs": [],
   "source": [
    "noise = False\n",
    "\n",
    "channels = ['E', 'N', 'Z']\n",
    "freqID   = 'BP8to12'\n",
    "\n",
    "# noise level\n",
    "if freqID == 'BP3to7':\n",
    "    noise_level = 1.025e-24\n",
    "elif freqID == 'BP8to12':\n",
    "    noise_level = 1.050e-24\n",
    "elif freqID == 'BP13to17':\n",
    "    noise_level = 3.277e-26\n",
    "    \n",
    "    \n",
    "xdim = 121\n",
    "ydim = 101\n",
    "\n",
    "## Load topography\n",
    "topo   = np.loadtxt('data/DEM_PF_10m_cut.dat',skiprows=6)\n",
    "dx = 10\n",
    "dy = 10\n",
    "xx = np.arange(0.,2100.+dx,dx)\n",
    "yy = np.arange(0.,1800.+dy,dy)\n",
    "levels = np.arange(2190., 2650, 20)\n",
    "### Load stations\n",
    "srcs   = np.loadtxt('data/stations.txt')\n",
    "srcs_array = ['BON', 'BOR', 'DSO', 'SNE']\n",
    "xmin =  640.\n",
    "xmax = 1840.\n",
    "ymin =  400.\n",
    "ymax = 1400.\n",
    "\n",
    "# Loading grid positions\n",
    "data = pd.read_csv('data/positions.txt', sep='\\s+', \n",
    "                   header=None, names=['x', 'y', 'z']) "
   ]
  },
  {
   "cell_type": "code",
   "execution_count": 11,
   "metadata": {},
   "outputs": [
    {
     "data": {
      "text/html": [
       "<div>\n",
       "<style scoped>\n",
       "    .dataframe tbody tr th:only-of-type {\n",
       "        vertical-align: middle;\n",
       "    }\n",
       "\n",
       "    .dataframe tbody tr th {\n",
       "        vertical-align: top;\n",
       "    }\n",
       "\n",
       "    .dataframe thead th {\n",
       "        text-align: right;\n",
       "    }\n",
       "</style>\n",
       "<table border=\"1\" class=\"dataframe\">\n",
       "  <thead>\n",
       "    <tr style=\"text-align: right;\">\n",
       "      <th></th>\n",
       "      <th>x</th>\n",
       "      <th>y</th>\n",
       "      <th>z</th>\n",
       "    </tr>\n",
       "  </thead>\n",
       "  <tbody>\n",
       "    <tr>\n",
       "      <th>0</th>\n",
       "      <td>640.0</td>\n",
       "      <td>400.0</td>\n",
       "      <td>671.8667</td>\n",
       "    </tr>\n",
       "    <tr>\n",
       "      <th>1</th>\n",
       "      <td>650.0</td>\n",
       "      <td>400.0</td>\n",
       "      <td>672.2667</td>\n",
       "    </tr>\n",
       "    <tr>\n",
       "      <th>2</th>\n",
       "      <td>660.0</td>\n",
       "      <td>400.0</td>\n",
       "      <td>672.6667</td>\n",
       "    </tr>\n",
       "    <tr>\n",
       "      <th>3</th>\n",
       "      <td>670.0</td>\n",
       "      <td>400.0</td>\n",
       "      <td>673.0667</td>\n",
       "    </tr>\n",
       "    <tr>\n",
       "      <th>4</th>\n",
       "      <td>680.0</td>\n",
       "      <td>400.0</td>\n",
       "      <td>673.8667</td>\n",
       "    </tr>\n",
       "    <tr>\n",
       "      <th>...</th>\n",
       "      <td>...</td>\n",
       "      <td>...</td>\n",
       "      <td>...</td>\n",
       "    </tr>\n",
       "    <tr>\n",
       "      <th>12216</th>\n",
       "      <td>1800.0</td>\n",
       "      <td>1400.0</td>\n",
       "      <td>611.2667</td>\n",
       "    </tr>\n",
       "    <tr>\n",
       "      <th>12217</th>\n",
       "      <td>1810.0</td>\n",
       "      <td>1400.0</td>\n",
       "      <td>606.8667</td>\n",
       "    </tr>\n",
       "    <tr>\n",
       "      <th>12218</th>\n",
       "      <td>1820.0</td>\n",
       "      <td>1400.0</td>\n",
       "      <td>603.2667</td>\n",
       "    </tr>\n",
       "    <tr>\n",
       "      <th>12219</th>\n",
       "      <td>1830.0</td>\n",
       "      <td>1400.0</td>\n",
       "      <td>598.8667</td>\n",
       "    </tr>\n",
       "    <tr>\n",
       "      <th>12220</th>\n",
       "      <td>1840.0</td>\n",
       "      <td>1400.0</td>\n",
       "      <td>595.2667</td>\n",
       "    </tr>\n",
       "  </tbody>\n",
       "</table>\n",
       "<p>12221 rows × 3 columns</p>\n",
       "</div>"
      ],
      "text/plain": [
       "            x       y         z\n",
       "0       640.0   400.0  671.8667\n",
       "1       650.0   400.0  672.2667\n",
       "2       660.0   400.0  672.6667\n",
       "3       670.0   400.0  673.0667\n",
       "4       680.0   400.0  673.8667\n",
       "...       ...     ...       ...\n",
       "12216  1800.0  1400.0  611.2667\n",
       "12217  1810.0  1400.0  606.8667\n",
       "12218  1820.0  1400.0  603.2667\n",
       "12219  1830.0  1400.0  598.8667\n",
       "12220  1840.0  1400.0  595.2667\n",
       "\n",
       "[12221 rows x 3 columns]"
      ]
     },
     "execution_count": 11,
     "metadata": {},
     "output_type": "execute_result"
    }
   ],
   "source": [
    "data"
   ]
  },
  {
   "cell_type": "code",
   "execution_count": 12,
   "metadata": {},
   "outputs": [
    {
     "name": "stderr",
     "output_type": "stream",
     "text": [
      "0it [00:00, ?it/s]/home/julian/Programs/anaconda2/envs/obspy/lib/python3.7/site-packages/ipykernel_launcher.py:59: RuntimeWarning: divide by zero encountered in true_divide\n",
      "/home/julian/Programs/anaconda2/envs/obspy/lib/python3.7/site-packages/ipykernel_launcher.py:2: RuntimeWarning: overflow encountered in exp\n",
      "  \n",
      "/home/julian/Programs/anaconda2/envs/obspy/lib/python3.7/site-packages/ipykernel_launcher.py:2: RuntimeWarning: overflow encountered in multiply\n",
      "  \n",
      "1788it [21:47,  1.33it/s]"
     ]
    },
    {
     "name": "stdout",
     "output_type": "stream",
     "text": [
      "Fit not found:\n",
      "1787\n"
     ]
    },
    {
     "name": "stderr",
     "output_type": "stream",
     "text": [
      "1789it [21:48,  1.28it/s]"
     ]
    },
    {
     "name": "stdout",
     "output_type": "stream",
     "text": [
      "Fit not found:\n",
      "1788\n"
     ]
    },
    {
     "name": "stderr",
     "output_type": "stream",
     "text": [
      "1790it [21:49,  1.26it/s]"
     ]
    },
    {
     "name": "stdout",
     "output_type": "stream",
     "text": [
      "Fit not found:\n",
      "1789\n"
     ]
    },
    {
     "name": "stderr",
     "output_type": "stream",
     "text": [
      "1909it [23:09,  1.21it/s]"
     ]
    },
    {
     "name": "stdout",
     "output_type": "stream",
     "text": [
      "Fit not found:\n",
      "1908\n"
     ]
    },
    {
     "name": "stderr",
     "output_type": "stream",
     "text": [
      "1910it [23:10,  1.19it/s]"
     ]
    },
    {
     "name": "stdout",
     "output_type": "stream",
     "text": [
      "Fit not found:\n",
      "1909\n"
     ]
    },
    {
     "name": "stderr",
     "output_type": "stream",
     "text": [
      "1911it [23:11,  1.14it/s]"
     ]
    },
    {
     "name": "stdout",
     "output_type": "stream",
     "text": [
      "Fit not found:\n",
      "1910\n"
     ]
    },
    {
     "name": "stderr",
     "output_type": "stream",
     "text": [
      "2153it [25:57,  1.29it/s]"
     ]
    },
    {
     "name": "stdout",
     "output_type": "stream",
     "text": [
      "Fit not found:\n",
      "2152\n"
     ]
    },
    {
     "name": "stderr",
     "output_type": "stream",
     "text": [
      "2156it [25:59,  1.27it/s]"
     ]
    },
    {
     "name": "stdout",
     "output_type": "stream",
     "text": [
      "Fit not found:\n",
      "2155\n"
     ]
    },
    {
     "name": "stderr",
     "output_type": "stream",
     "text": [
      "2157it [26:00,  1.24it/s]"
     ]
    },
    {
     "name": "stdout",
     "output_type": "stream",
     "text": [
      "Fit not found:\n",
      "2156\n"
     ]
    },
    {
     "name": "stderr",
     "output_type": "stream",
     "text": [
      "2274it [27:19,  1.53it/s]/home/julian/Programs/anaconda2/envs/obspy/lib/python3.7/site-packages/scipy/optimize/minpack.py:799: OptimizeWarning: Covariance of the parameters could not be estimated\n",
      "  category=OptimizeWarning)\n",
      "2276it [27:21,  1.39it/s]"
     ]
    },
    {
     "name": "stdout",
     "output_type": "stream",
     "text": [
      "Fit not found:\n",
      "2275\n"
     ]
    },
    {
     "name": "stderr",
     "output_type": "stream",
     "text": [
      "2279it [27:23,  1.35it/s]"
     ]
    },
    {
     "name": "stdout",
     "output_type": "stream",
     "text": [
      "Fit not found:\n",
      "2278\n"
     ]
    },
    {
     "name": "stderr",
     "output_type": "stream",
     "text": [
      "2395it [28:42,  1.26it/s]"
     ]
    },
    {
     "name": "stdout",
     "output_type": "stream",
     "text": [
      "Fit not found:\n",
      "2394\n"
     ]
    },
    {
     "name": "stderr",
     "output_type": "stream",
     "text": [
      "2396it [28:43,  1.20it/s]"
     ]
    },
    {
     "name": "stdout",
     "output_type": "stream",
     "text": [
      "Fit not found:\n",
      "2395\n"
     ]
    },
    {
     "name": "stderr",
     "output_type": "stream",
     "text": [
      "2399it [28:45,  1.26it/s]"
     ]
    },
    {
     "name": "stdout",
     "output_type": "stream",
     "text": [
      "Fit not found:\n",
      "2398\n"
     ]
    },
    {
     "name": "stderr",
     "output_type": "stream",
     "text": [
      "2401it [28:47,  1.18it/s]"
     ]
    },
    {
     "name": "stdout",
     "output_type": "stream",
     "text": [
      "Fit not found:\n",
      "2400\n"
     ]
    },
    {
     "name": "stderr",
     "output_type": "stream",
     "text": [
      "2518it [30:05,  1.39it/s]"
     ]
    },
    {
     "name": "stdout",
     "output_type": "stream",
     "text": [
      "Fit not found:\n",
      "2517\n"
     ]
    },
    {
     "name": "stderr",
     "output_type": "stream",
     "text": [
      "2522it [30:08,  1.36it/s]"
     ]
    },
    {
     "name": "stdout",
     "output_type": "stream",
     "text": [
      "Fit not found:\n",
      "2521\n"
     ]
    },
    {
     "name": "stderr",
     "output_type": "stream",
     "text": [
      "2523it [30:09,  1.30it/s]"
     ]
    },
    {
     "name": "stdout",
     "output_type": "stream",
     "text": [
      "Fit not found:\n",
      "2522\n"
     ]
    },
    {
     "name": "stderr",
     "output_type": "stream",
     "text": [
      "2524it [30:10,  1.27it/s]"
     ]
    },
    {
     "name": "stdout",
     "output_type": "stream",
     "text": [
      "Fit not found:\n",
      "2523\n"
     ]
    },
    {
     "name": "stderr",
     "output_type": "stream",
     "text": [
      "2525it [30:11,  1.18it/s]"
     ]
    },
    {
     "name": "stdout",
     "output_type": "stream",
     "text": [
      "Fit not found:\n",
      "2524\n"
     ]
    },
    {
     "name": "stderr",
     "output_type": "stream",
     "text": [
      "2637it [31:26,  1.40it/s]"
     ]
    },
    {
     "name": "stdout",
     "output_type": "stream",
     "text": [
      "Fit not found:\n",
      "2636\n"
     ]
    },
    {
     "name": "stderr",
     "output_type": "stream",
     "text": [
      "2640it [31:29,  1.36it/s]"
     ]
    },
    {
     "name": "stdout",
     "output_type": "stream",
     "text": [
      "Fit not found:\n",
      "2639\n"
     ]
    },
    {
     "name": "stderr",
     "output_type": "stream",
     "text": [
      "2641it [31:30,  1.27it/s]"
     ]
    },
    {
     "name": "stdout",
     "output_type": "stream",
     "text": [
      "Fit not found:\n",
      "2640\n"
     ]
    },
    {
     "name": "stderr",
     "output_type": "stream",
     "text": [
      "2643it [31:31,  1.29it/s]"
     ]
    },
    {
     "name": "stdout",
     "output_type": "stream",
     "text": [
      "Fit not found:\n",
      "2642\n"
     ]
    },
    {
     "name": "stderr",
     "output_type": "stream",
     "text": [
      "2645it [31:33,  1.28it/s]"
     ]
    },
    {
     "name": "stdout",
     "output_type": "stream",
     "text": [
      "Fit not found:\n",
      "2644\n"
     ]
    },
    {
     "name": "stderr",
     "output_type": "stream",
     "text": [
      "2755it [32:47,  1.35it/s]"
     ]
    },
    {
     "name": "stdout",
     "output_type": "stream",
     "text": [
      "Fit not found:\n",
      "2754\n"
     ]
    },
    {
     "name": "stderr",
     "output_type": "stream",
     "text": [
      "2756it [32:48,  1.22it/s]"
     ]
    },
    {
     "name": "stdout",
     "output_type": "stream",
     "text": [
      "Fit not found:\n",
      "2755\n"
     ]
    },
    {
     "name": "stderr",
     "output_type": "stream",
     "text": [
      "2757it [32:49,  1.16it/s]"
     ]
    },
    {
     "name": "stdout",
     "output_type": "stream",
     "text": [
      "Fit not found:\n",
      "2756\n"
     ]
    },
    {
     "name": "stderr",
     "output_type": "stream",
     "text": [
      "2758it [32:50,  1.16it/s]"
     ]
    },
    {
     "name": "stdout",
     "output_type": "stream",
     "text": [
      "Fit not found:\n",
      "2757\n"
     ]
    },
    {
     "name": "stderr",
     "output_type": "stream",
     "text": [
      "2759it [32:51,  1.17it/s]"
     ]
    },
    {
     "name": "stdout",
     "output_type": "stream",
     "text": [
      "Fit not found:\n",
      "2758\n"
     ]
    },
    {
     "name": "stderr",
     "output_type": "stream",
     "text": [
      "2761it [32:52,  1.24it/s]"
     ]
    },
    {
     "name": "stdout",
     "output_type": "stream",
     "text": [
      "Fit not found:\n",
      "2760\n"
     ]
    },
    {
     "name": "stderr",
     "output_type": "stream",
     "text": [
      "2763it [32:54,  1.25it/s]"
     ]
    },
    {
     "name": "stdout",
     "output_type": "stream",
     "text": [
      "Fit not found:\n",
      "2762\n"
     ]
    },
    {
     "name": "stderr",
     "output_type": "stream",
     "text": [
      "2764it [32:54,  1.23it/s]"
     ]
    },
    {
     "name": "stdout",
     "output_type": "stream",
     "text": [
      "Fit not found:\n",
      "2763\n"
     ]
    },
    {
     "name": "stderr",
     "output_type": "stream",
     "text": [
      "2766it [32:56,  1.24it/s]"
     ]
    },
    {
     "name": "stdout",
     "output_type": "stream",
     "text": [
      "Fit not found:\n",
      "2765\n"
     ]
    },
    {
     "name": "stderr",
     "output_type": "stream",
     "text": [
      "2876it [34:11,  1.19it/s]"
     ]
    },
    {
     "name": "stdout",
     "output_type": "stream",
     "text": [
      "Fit not found:\n",
      "2875\n"
     ]
    },
    {
     "name": "stderr",
     "output_type": "stream",
     "text": [
      "2877it [34:12,  1.14it/s]"
     ]
    },
    {
     "name": "stdout",
     "output_type": "stream",
     "text": [
      "Fit not found:\n",
      "2876\n"
     ]
    },
    {
     "name": "stderr",
     "output_type": "stream",
     "text": [
      "2878it [34:13,  1.10it/s]"
     ]
    },
    {
     "name": "stdout",
     "output_type": "stream",
     "text": [
      "Fit not found:\n",
      "2877\n"
     ]
    },
    {
     "name": "stderr",
     "output_type": "stream",
     "text": [
      "2881it [34:16,  1.16it/s]"
     ]
    },
    {
     "name": "stdout",
     "output_type": "stream",
     "text": [
      "Fit not found:\n",
      "2880\n"
     ]
    },
    {
     "name": "stderr",
     "output_type": "stream",
     "text": [
      "2884it [34:18,  1.19it/s]"
     ]
    },
    {
     "name": "stdout",
     "output_type": "stream",
     "text": [
      "Fit not found:\n",
      "2883\n"
     ]
    },
    {
     "name": "stderr",
     "output_type": "stream",
     "text": [
      "3002it [35:37,  1.35it/s]"
     ]
    },
    {
     "name": "stdout",
     "output_type": "stream",
     "text": [
      "Fit not found:\n",
      "3001\n"
     ]
    },
    {
     "name": "stderr",
     "output_type": "stream",
     "text": [
      "3005it [35:39,  1.32it/s]"
     ]
    },
    {
     "name": "stdout",
     "output_type": "stream",
     "text": [
      "Fit not found:\n",
      "3004\n"
     ]
    },
    {
     "name": "stderr",
     "output_type": "stream",
     "text": [
      "3006it [35:40,  1.28it/s]"
     ]
    },
    {
     "name": "stdout",
     "output_type": "stream",
     "text": [
      "Fit not found:\n",
      "3005\n"
     ]
    },
    {
     "name": "stderr",
     "output_type": "stream",
     "text": [
      "3007it [35:41,  1.26it/s]"
     ]
    },
    {
     "name": "stdout",
     "output_type": "stream",
     "text": [
      "Fit not found:\n",
      "3006\n"
     ]
    },
    {
     "name": "stderr",
     "output_type": "stream",
     "text": [
      "3127it [37:03,  1.25it/s]"
     ]
    },
    {
     "name": "stdout",
     "output_type": "stream",
     "text": [
      "Fit not found:\n",
      "3126\n"
     ]
    },
    {
     "name": "stderr",
     "output_type": "stream",
     "text": [
      "3128it [37:04,  1.17it/s]"
     ]
    },
    {
     "name": "stdout",
     "output_type": "stream",
     "text": [
      "Fit not found:\n",
      "3127\n"
     ]
    },
    {
     "name": "stderr",
     "output_type": "stream",
     "text": [
      "3346it [39:31,  1.21it/s]"
     ]
    },
    {
     "name": "stdout",
     "output_type": "stream",
     "text": [
      "Fit not found:\n",
      "3345\n"
     ]
    },
    {
     "name": "stderr",
     "output_type": "stream",
     "text": [
      "3347it [39:31,  1.19it/s]"
     ]
    },
    {
     "name": "stdout",
     "output_type": "stream",
     "text": [
      "Fit not found:\n",
      "3346\n"
     ]
    },
    {
     "name": "stderr",
     "output_type": "stream",
     "text": [
      "3348it [39:32,  1.16it/s]"
     ]
    },
    {
     "name": "stdout",
     "output_type": "stream",
     "text": [
      "Fit not found:\n",
      "3347\n"
     ]
    },
    {
     "name": "stderr",
     "output_type": "stream",
     "text": [
      "3467it [40:54,  1.21it/s]"
     ]
    },
    {
     "name": "stdout",
     "output_type": "stream",
     "text": [
      "Fit not found:\n",
      "3466\n"
     ]
    },
    {
     "name": "stderr",
     "output_type": "stream",
     "text": [
      "3468it [40:55,  1.17it/s]"
     ]
    },
    {
     "name": "stdout",
     "output_type": "stream",
     "text": [
      "Fit not found:\n",
      "3467\n"
     ]
    },
    {
     "name": "stderr",
     "output_type": "stream",
     "text": [
      "3469it [40:56,  1.06it/s]"
     ]
    },
    {
     "name": "stdout",
     "output_type": "stream",
     "text": [
      "Fit not found:\n",
      "3468\n"
     ]
    },
    {
     "name": "stderr",
     "output_type": "stream",
     "text": [
      "3500it [41:27,  1.65s/it]"
     ]
    },
    {
     "name": "stdout",
     "output_type": "stream",
     "text": [
      "Fit not found:\n",
      "3499\n"
     ]
    },
    {
     "name": "stderr",
     "output_type": "stream",
     "text": [
      "3709it [44:36,  1.05it/s]"
     ]
    },
    {
     "name": "stdout",
     "output_type": "stream",
     "text": [
      "Fit not found:\n",
      "3708\n"
     ]
    },
    {
     "name": "stderr",
     "output_type": "stream",
     "text": [
      "3710it [44:37,  1.02it/s]"
     ]
    },
    {
     "name": "stdout",
     "output_type": "stream",
     "text": [
      "Fit not found:\n",
      "3709\n"
     ]
    },
    {
     "name": "stderr",
     "output_type": "stream",
     "text": [
      "3788it [45:51,  1.17it/s]"
     ]
    },
    {
     "name": "stdout",
     "output_type": "stream",
     "text": [
      "Fit not found:\n",
      "3787\n"
     ]
    },
    {
     "name": "stderr",
     "output_type": "stream",
     "text": [
      "12221it [2:21:41,  1.44it/s]\n"
     ]
    }
   ],
   "source": [
    "#resolution = np.zeros((xdim*ydim))\n",
    "resolution_popt = np.zeros((xdim*ydim, 3))\n",
    "resolution_perr = np.zeros((xdim*ydim, 3))\n",
    "\n",
    "for index, row in tqdm(data.iterrows()):\n",
    "    \n",
    "    radius = np.array(np.sqrt((data.x-row.x)**2 + (data.y-row.y)**2))\n",
    "    probs  = calc_prob(channels, ydim, xdim, freqID, index, noise, noise_level)\n",
    "    \n",
    "    radius = np.delete(radius, index)\n",
    "    probs  = np.delete(probs,  index)\n",
    "    \n",
    "    try:\n",
    "        popt_exponential, pcov_exponential = optimize.curve_fit(exponential, radius, probs, p0=[10, -0.5, 0])\n",
    "        perr_exponential = np.sqrt(np.diag(pcov_exponential))\n",
    "        \n",
    "        resolution_popt[index,:] = popt_exponential\n",
    "        resolution_perr[index,:] = perr_exponential\n",
    "        \n",
    "        #y0 = exponential(0., popt_exponential[0], popt_exponential[1], popt_exponential[2])\n",
    "        #xhalf = np.log((y0/2 - popt_exponential[2])/popt_exponential[0])/popt_exponential[1]\n",
    "    except RuntimeError:\n",
    "        print('Fit not found:')\n",
    "        print(index)\n",
    "        resolution_popt[index,:] = [np.nan, np.nan, np.nan]\n",
    "        resolution_perr[index,:] = [np.nan, np.nan, np.nan]"
   ]
  },
  {
   "cell_type": "code",
   "execution_count": 13,
   "metadata": {},
   "outputs": [],
   "source": [
    "#data['res'] = resolution\n",
    "data['res_a']     = resolution_popt[:,0]\n",
    "data['res_a_err'] = resolution_perr[:,0]\n",
    "data['res_k']     = resolution_popt[:,1]\n",
    "data['res_k_err'] = resolution_perr[:,1]\n",
    "data['res_b']     = resolution_popt[:,2]\n",
    "data['res_b_err'] = resolution_perr[:,2]"
   ]
  },
  {
   "cell_type": "code",
   "execution_count": 14,
   "metadata": {},
   "outputs": [
    {
     "data": {
      "text/html": [
       "<div>\n",
       "<style scoped>\n",
       "    .dataframe tbody tr th:only-of-type {\n",
       "        vertical-align: middle;\n",
       "    }\n",
       "\n",
       "    .dataframe tbody tr th {\n",
       "        vertical-align: top;\n",
       "    }\n",
       "\n",
       "    .dataframe thead th {\n",
       "        text-align: right;\n",
       "    }\n",
       "</style>\n",
       "<table border=\"1\" class=\"dataframe\">\n",
       "  <thead>\n",
       "    <tr style=\"text-align: right;\">\n",
       "      <th></th>\n",
       "      <th>x</th>\n",
       "      <th>y</th>\n",
       "      <th>z</th>\n",
       "      <th>res_a</th>\n",
       "      <th>res_a_err</th>\n",
       "      <th>res_k</th>\n",
       "      <th>res_k_err</th>\n",
       "      <th>res_b</th>\n",
       "      <th>res_b_err</th>\n",
       "    </tr>\n",
       "  </thead>\n",
       "  <tbody>\n",
       "    <tr>\n",
       "      <th>0</th>\n",
       "      <td>640.0</td>\n",
       "      <td>400.0</td>\n",
       "      <td>671.8667</td>\n",
       "      <td>4.798513</td>\n",
       "      <td>0.037433</td>\n",
       "      <td>-0.005156</td>\n",
       "      <td>0.000041</td>\n",
       "      <td>0.518666</td>\n",
       "      <td>0.003398</td>\n",
       "    </tr>\n",
       "    <tr>\n",
       "      <th>1</th>\n",
       "      <td>650.0</td>\n",
       "      <td>400.0</td>\n",
       "      <td>672.2667</td>\n",
       "      <td>5.996956</td>\n",
       "      <td>0.038499</td>\n",
       "      <td>-0.005778</td>\n",
       "      <td>0.000037</td>\n",
       "      <td>0.513021</td>\n",
       "      <td>0.003105</td>\n",
       "    </tr>\n",
       "    <tr>\n",
       "      <th>2</th>\n",
       "      <td>660.0</td>\n",
       "      <td>400.0</td>\n",
       "      <td>672.6667</td>\n",
       "      <td>6.623006</td>\n",
       "      <td>0.037588</td>\n",
       "      <td>-0.005965</td>\n",
       "      <td>0.000035</td>\n",
       "      <td>0.493649</td>\n",
       "      <td>0.003041</td>\n",
       "    </tr>\n",
       "    <tr>\n",
       "      <th>3</th>\n",
       "      <td>670.0</td>\n",
       "      <td>400.0</td>\n",
       "      <td>673.0667</td>\n",
       "      <td>9.024214</td>\n",
       "      <td>0.056944</td>\n",
       "      <td>-0.007457</td>\n",
       "      <td>0.000047</td>\n",
       "      <td>0.529177</td>\n",
       "      <td>0.003605</td>\n",
       "    </tr>\n",
       "    <tr>\n",
       "      <th>4</th>\n",
       "      <td>680.0</td>\n",
       "      <td>400.0</td>\n",
       "      <td>673.8667</td>\n",
       "      <td>8.375678</td>\n",
       "      <td>0.051853</td>\n",
       "      <td>-0.007118</td>\n",
       "      <td>0.000045</td>\n",
       "      <td>0.523604</td>\n",
       "      <td>0.003584</td>\n",
       "    </tr>\n",
       "  </tbody>\n",
       "</table>\n",
       "</div>"
      ],
      "text/plain": [
       "       x      y         z     res_a  res_a_err     res_k  res_k_err     res_b  \\\n",
       "0  640.0  400.0  671.8667  4.798513   0.037433 -0.005156   0.000041  0.518666   \n",
       "1  650.0  400.0  672.2667  5.996956   0.038499 -0.005778   0.000037  0.513021   \n",
       "2  660.0  400.0  672.6667  6.623006   0.037588 -0.005965   0.000035  0.493649   \n",
       "3  670.0  400.0  673.0667  9.024214   0.056944 -0.007457   0.000047  0.529177   \n",
       "4  680.0  400.0  673.8667  8.375678   0.051853 -0.007118   0.000045  0.523604   \n",
       "\n",
       "   res_b_err  \n",
       "0   0.003398  \n",
       "1   0.003105  \n",
       "2   0.003041  \n",
       "3   0.003605  \n",
       "4   0.003584  "
      ]
     },
     "execution_count": 14,
     "metadata": {},
     "output_type": "execute_result"
    }
   ],
   "source": [
    "data.head()"
   ]
  },
  {
   "cell_type": "code",
   "execution_count": 15,
   "metadata": {},
   "outputs": [],
   "source": [
    "data.to_csv('resolution/resolution_exp_ENZ_'+freqID+'.csv', index=False)"
   ]
  },
  {
   "cell_type": "code",
   "execution_count": null,
   "metadata": {},
   "outputs": [],
   "source": []
  }
 ],
 "metadata": {
  "kernelspec": {
   "display_name": "Python 3",
   "language": "python",
   "name": "python3"
  },
  "language_info": {
   "codemirror_mode": {
    "name": "ipython",
    "version": 3
   },
   "file_extension": ".py",
   "mimetype": "text/x-python",
   "name": "python",
   "nbconvert_exporter": "python",
   "pygments_lexer": "ipython3",
   "version": "3.7.3"
  }
 },
 "nbformat": 4,
 "nbformat_minor": 4
}
