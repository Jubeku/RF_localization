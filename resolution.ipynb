{
 "cells": [
  {
   "cell_type": "code",
   "execution_count": 67,
   "metadata": {},
   "outputs": [],
   "source": [
    "import numpy as np\n",
    "import matplotlib.pyplot as plt\n",
    "import pandas as pd\n",
    "from scipy import optimize\n",
    "from tqdm import tqdm"
   ]
  },
  {
   "cell_type": "code",
   "execution_count": 82,
   "metadata": {},
   "outputs": [],
   "source": [
    "def calc_prob(channels, ydim, xdim, freqID, src_ID, noise, noise_level):\n",
    "    \n",
    "    ref = 'BON'\n",
    "    \n",
    "    #Pre-allocate array with probabilities\n",
    "    probs_tw = np.zeros((xdim*ydim))\n",
    "    \n",
    "    # Energy ratios are calculated for each component in respect to the chosen\n",
    "    # reference station\n",
    "    for ch in channels:\n",
    "        \n",
    "        # Energy ratios from simulated signal\n",
    "        if ch == 'Z':\n",
    "            direc_comp = 'data/simu/vertZ/'\n",
    "        elif ch == 'E':\n",
    "            direc_comp = 'data/simu/horzE/'\n",
    "        elif ch == 'N':\n",
    "            direc_comp = 'data/simu/horzN/'\n",
    "            \n",
    "            \n",
    "        if ch == 'Z':\n",
    "            stas_name = ['BOR', 'DSO', 'SNE']\n",
    "        else:\n",
    "            stas_name = ['BOR', 'SNE']\n",
    "\n",
    "        nRatios = len(stas_name)\n",
    "        ratio_obs = np.zeros(nRatios)   \n",
    "        \n",
    "        path_simu_ref = direc_comp + ref + '/' \n",
    "        energy_simu_ref = np.loadtxt(path_simu_ref + freqID + '/energy_Fz.txt')\n",
    "        #observed energy\n",
    "        energy_curr_ref  = energy_simu_ref[src_ID]\n",
    "        if noise:\n",
    "            energy_curr_ref += np.abs(np.random.normal(0,noise_level))\n",
    "        #simulated energy catalogue\n",
    "        ###energy_simu_ref = np.reshape(energy_simu_ref,(ydim,xdim))\n",
    "        ratios_simu = np.zeros((ydim*xdim,nRatios)) \n",
    "        \n",
    "        for idxSrc, sta in enumerate(stas_name):\n",
    "            path_simu = direc_comp  + sta + '/' \n",
    "            energy_simu = np.loadtxt(path_simu + freqID + '/energy_Fz.txt')\n",
    "            #observed energy\n",
    "            energy_curr = energy_simu[src_ID] \n",
    "            if noise:\n",
    "                energy_curr += np.abs(np.random.normal(0,noise_level))\n",
    "            ratio_obs[idxSrc] = energy_curr/energy_curr_ref\n",
    "            #simulated energy catalogue\n",
    "            ###energy_simu = np.reshape(energy_simu,(ydim,xdim))\n",
    "            ratios_simu[:,idxSrc] = energy_simu/energy_simu_ref\n",
    "                    \n",
    "        # Error between observed and simulated energy ratios\n",
    "        for ii in range(xdim*ydim):\n",
    "            for kk in range(nRatios):\n",
    "                probs_tw[ii] += 1./nRatios * (\n",
    "                    np.abs(np.log10(ratios_simu[ii,kk]/ratio_obs[kk])))\n",
    "\n",
    "    # Probability is defined as inverse of error, normalized by \n",
    "    # number of channels\n",
    "    probs_tw = 1./(probs_tw/len(channels))\n",
    "\n",
    "    return(probs_tw)"
   ]
  },
  {
   "cell_type": "code",
   "execution_count": 83,
   "metadata": {},
   "outputs": [],
   "source": [
    "def exponential(x, a, k, b):\n",
    "    return a*np.exp(x*k) + b"
   ]
  },
  {
   "cell_type": "code",
   "execution_count": 89,
   "metadata": {},
   "outputs": [],
   "source": [
    "noise = False\n",
    "\n",
    "channels = ['Z']\n",
    "freqID   = 'BP8to12'\n",
    "\n",
    "# noise level\n",
    "if freqID == 'BP3to7':\n",
    "    noise_level = 1.025e-24\n",
    "elif freqID == 'BP8to12':\n",
    "    noise_level = 1.050e-24\n",
    "elif freqID == 'BP13to17':\n",
    "    noise_level = 3.277e-26\n",
    "    \n",
    "    \n",
    "xdim = 121\n",
    "ydim = 101\n",
    "\n",
    "## Load topography\n",
    "topo   = np.loadtxt('data/DEM_PF_10m_cut.dat',skiprows=6)\n",
    "dx = 10\n",
    "dy = 10\n",
    "xx = np.arange(0.,2100.+dx,dx)\n",
    "yy = np.arange(0.,1800.+dy,dy)\n",
    "levels = np.arange(2190., 2650, 20)\n",
    "### Load stations\n",
    "srcs   = np.loadtxt('data/stations.txt')\n",
    "srcs_array = ['BON', 'BOR', 'DSO', 'SNE']\n",
    "xmin =  640.\n",
    "xmax = 1840.\n",
    "ymin =  400.\n",
    "ymax = 1400.\n",
    "\n",
    "# Loading grid positions\n",
    "data = pd.read_csv('data/positions.txt', sep='\\s+', \n",
    "                   header=None, names=['x', 'y', 'z']) "
   ]
  },
  {
   "cell_type": "code",
   "execution_count": 94,
   "metadata": {},
   "outputs": [
    {
     "data": {
      "text/html": [
       "<div>\n",
       "<style scoped>\n",
       "    .dataframe tbody tr th:only-of-type {\n",
       "        vertical-align: middle;\n",
       "    }\n",
       "\n",
       "    .dataframe tbody tr th {\n",
       "        vertical-align: top;\n",
       "    }\n",
       "\n",
       "    .dataframe thead th {\n",
       "        text-align: right;\n",
       "    }\n",
       "</style>\n",
       "<table border=\"1\" class=\"dataframe\">\n",
       "  <thead>\n",
       "    <tr style=\"text-align: right;\">\n",
       "      <th></th>\n",
       "      <th>x</th>\n",
       "      <th>y</th>\n",
       "      <th>z</th>\n",
       "      <th>res_a</th>\n",
       "      <th>res_a_err</th>\n",
       "      <th>res_k</th>\n",
       "      <th>res_k_err</th>\n",
       "      <th>res_b</th>\n",
       "      <th>res_b_err</th>\n",
       "    </tr>\n",
       "  </thead>\n",
       "  <tbody>\n",
       "    <tr>\n",
       "      <th>0</th>\n",
       "      <td>640.0</td>\n",
       "      <td>400.0</td>\n",
       "      <td>671.8667</td>\n",
       "      <td>28.222763</td>\n",
       "      <td>0.325559</td>\n",
       "      <td>-0.018798</td>\n",
       "      <td>0.000187</td>\n",
       "      <td>0.607923</td>\n",
       "      <td>0.006384</td>\n",
       "    </tr>\n",
       "    <tr>\n",
       "      <th>1</th>\n",
       "      <td>650.0</td>\n",
       "      <td>400.0</td>\n",
       "      <td>672.2667</td>\n",
       "      <td>23.039543</td>\n",
       "      <td>0.208644</td>\n",
       "      <td>-0.015724</td>\n",
       "      <td>0.000130</td>\n",
       "      <td>0.592287</td>\n",
       "      <td>0.005517</td>\n",
       "    </tr>\n",
       "    <tr>\n",
       "      <th>2</th>\n",
       "      <td>660.0</td>\n",
       "      <td>400.0</td>\n",
       "      <td>672.6667</td>\n",
       "      <td>21.563709</td>\n",
       "      <td>0.209436</td>\n",
       "      <td>-0.016321</td>\n",
       "      <td>0.000149</td>\n",
       "      <td>0.598978</td>\n",
       "      <td>0.005689</td>\n",
       "    </tr>\n",
       "    <tr>\n",
       "      <th>3</th>\n",
       "      <td>670.0</td>\n",
       "      <td>400.0</td>\n",
       "      <td>673.0667</td>\n",
       "      <td>44.730404</td>\n",
       "      <td>0.516055</td>\n",
       "      <td>-0.031618</td>\n",
       "      <td>0.000334</td>\n",
       "      <td>0.650724</td>\n",
       "      <td>0.007321</td>\n",
       "    </tr>\n",
       "    <tr>\n",
       "      <th>4</th>\n",
       "      <td>680.0</td>\n",
       "      <td>400.0</td>\n",
       "      <td>673.8667</td>\n",
       "      <td>59.796295</td>\n",
       "      <td>0.709342</td>\n",
       "      <td>-0.042727</td>\n",
       "      <td>0.000433</td>\n",
       "      <td>0.665683</td>\n",
       "      <td>0.007225</td>\n",
       "    </tr>\n",
       "    <tr>\n",
       "      <th>...</th>\n",
       "      <td>...</td>\n",
       "      <td>...</td>\n",
       "      <td>...</td>\n",
       "      <td>...</td>\n",
       "      <td>...</td>\n",
       "      <td>...</td>\n",
       "      <td>...</td>\n",
       "      <td>...</td>\n",
       "      <td>...</td>\n",
       "    </tr>\n",
       "    <tr>\n",
       "      <th>12216</th>\n",
       "      <td>1800.0</td>\n",
       "      <td>1400.0</td>\n",
       "      <td>611.2667</td>\n",
       "      <td>8.621846</td>\n",
       "      <td>0.125869</td>\n",
       "      <td>-0.006565</td>\n",
       "      <td>0.000099</td>\n",
       "      <td>0.372287</td>\n",
       "      <td>0.009632</td>\n",
       "    </tr>\n",
       "    <tr>\n",
       "      <th>12217</th>\n",
       "      <td>1810.0</td>\n",
       "      <td>1400.0</td>\n",
       "      <td>606.8667</td>\n",
       "      <td>9.918320</td>\n",
       "      <td>0.105117</td>\n",
       "      <td>-0.006717</td>\n",
       "      <td>0.000072</td>\n",
       "      <td>0.392855</td>\n",
       "      <td>0.007563</td>\n",
       "    </tr>\n",
       "    <tr>\n",
       "      <th>12218</th>\n",
       "      <td>1820.0</td>\n",
       "      <td>1400.0</td>\n",
       "      <td>603.2667</td>\n",
       "      <td>11.121420</td>\n",
       "      <td>0.131066</td>\n",
       "      <td>-0.007340</td>\n",
       "      <td>0.000084</td>\n",
       "      <td>0.425141</td>\n",
       "      <td>0.008115</td>\n",
       "    </tr>\n",
       "    <tr>\n",
       "      <th>12219</th>\n",
       "      <td>1830.0</td>\n",
       "      <td>1400.0</td>\n",
       "      <td>598.8667</td>\n",
       "      <td>6.937831</td>\n",
       "      <td>0.088056</td>\n",
       "      <td>-0.005860</td>\n",
       "      <td>0.000075</td>\n",
       "      <td>0.404518</td>\n",
       "      <td>0.006959</td>\n",
       "    </tr>\n",
       "    <tr>\n",
       "      <th>12220</th>\n",
       "      <td>1840.0</td>\n",
       "      <td>1400.0</td>\n",
       "      <td>595.2667</td>\n",
       "      <td>8.370072</td>\n",
       "      <td>0.134549</td>\n",
       "      <td>-0.006163</td>\n",
       "      <td>0.000095</td>\n",
       "      <td>0.429384</td>\n",
       "      <td>0.009324</td>\n",
       "    </tr>\n",
       "  </tbody>\n",
       "</table>\n",
       "<p>12221 rows × 9 columns</p>\n",
       "</div>"
      ],
      "text/plain": [
       "            x       y         z      res_a  res_a_err     res_k  res_k_err  \\\n",
       "0       640.0   400.0  671.8667  28.222763   0.325559 -0.018798   0.000187   \n",
       "1       650.0   400.0  672.2667  23.039543   0.208644 -0.015724   0.000130   \n",
       "2       660.0   400.0  672.6667  21.563709   0.209436 -0.016321   0.000149   \n",
       "3       670.0   400.0  673.0667  44.730404   0.516055 -0.031618   0.000334   \n",
       "4       680.0   400.0  673.8667  59.796295   0.709342 -0.042727   0.000433   \n",
       "...       ...     ...       ...        ...        ...       ...        ...   \n",
       "12216  1800.0  1400.0  611.2667   8.621846   0.125869 -0.006565   0.000099   \n",
       "12217  1810.0  1400.0  606.8667   9.918320   0.105117 -0.006717   0.000072   \n",
       "12218  1820.0  1400.0  603.2667  11.121420   0.131066 -0.007340   0.000084   \n",
       "12219  1830.0  1400.0  598.8667   6.937831   0.088056 -0.005860   0.000075   \n",
       "12220  1840.0  1400.0  595.2667   8.370072   0.134549 -0.006163   0.000095   \n",
       "\n",
       "          res_b  res_b_err  \n",
       "0      0.607923   0.006384  \n",
       "1      0.592287   0.005517  \n",
       "2      0.598978   0.005689  \n",
       "3      0.650724   0.007321  \n",
       "4      0.665683   0.007225  \n",
       "...         ...        ...  \n",
       "12216  0.372287   0.009632  \n",
       "12217  0.392855   0.007563  \n",
       "12218  0.425141   0.008115  \n",
       "12219  0.404518   0.006959  \n",
       "12220  0.429384   0.009324  \n",
       "\n",
       "[12221 rows x 9 columns]"
      ]
     },
     "execution_count": 94,
     "metadata": {},
     "output_type": "execute_result"
    }
   ],
   "source": [
    "data"
   ]
  },
  {
   "cell_type": "code",
   "execution_count": 90,
   "metadata": {},
   "outputs": [
    {
     "name": "stderr",
     "output_type": "stream",
     "text": [
      "0it [00:00, ?it/s]/home/julian/Programs/anaconda2/envs/obspy/lib/python3.7/site-packages/ipykernel_launcher.py:59: RuntimeWarning: divide by zero encountered in true_divide\n",
      "/home/julian/Programs/anaconda2/envs/obspy/lib/python3.7/site-packages/ipykernel_launcher.py:2: RuntimeWarning: overflow encountered in exp\n",
      "  \n",
      "/home/julian/Programs/anaconda2/envs/obspy/lib/python3.7/site-packages/ipykernel_launcher.py:2: RuntimeWarning: overflow encountered in multiply\n",
      "  \n",
      "18it [00:05,  3.60it/s]/home/julian/Programs/anaconda2/envs/obspy/lib/python3.7/site-packages/scipy/optimize/minpack.py:799: OptimizeWarning: Covariance of the parameters could not be estimated\n",
      "  category=OptimizeWarning)\n",
      "220it [01:10,  2.75it/s]"
     ]
    },
    {
     "name": "stdout",
     "output_type": "stream",
     "text": [
      "Fit not found:\n",
      "219\n"
     ]
    },
    {
     "name": "stderr",
     "output_type": "stream",
     "text": [
      "1135it [06:03,  2.79it/s]"
     ]
    },
    {
     "name": "stdout",
     "output_type": "stream",
     "text": [
      "Fit not found:\n",
      "1134\n"
     ]
    },
    {
     "name": "stderr",
     "output_type": "stream",
     "text": [
      "1249it [06:40,  2.85it/s]"
     ]
    },
    {
     "name": "stdout",
     "output_type": "stream",
     "text": [
      "Fit not found:\n",
      "1248\n"
     ]
    },
    {
     "name": "stderr",
     "output_type": "stream",
     "text": [
      "1252it [06:41,  2.79it/s]"
     ]
    },
    {
     "name": "stdout",
     "output_type": "stream",
     "text": [
      "Fit not found:\n",
      "1251\n"
     ]
    },
    {
     "name": "stderr",
     "output_type": "stream",
     "text": [
      "1256it [06:42,  2.39it/s]"
     ]
    },
    {
     "name": "stdout",
     "output_type": "stream",
     "text": [
      "Fit not found:\n",
      "1255\n"
     ]
    },
    {
     "name": "stderr",
     "output_type": "stream",
     "text": [
      "1368it [07:17,  2.48it/s]"
     ]
    },
    {
     "name": "stdout",
     "output_type": "stream",
     "text": [
      "Fit not found:\n",
      "1367\n"
     ]
    },
    {
     "name": "stderr",
     "output_type": "stream",
     "text": [
      "1378it [07:20,  2.68it/s]"
     ]
    },
    {
     "name": "stdout",
     "output_type": "stream",
     "text": [
      "Fit not found:\n",
      "1377\n"
     ]
    },
    {
     "name": "stderr",
     "output_type": "stream",
     "text": [
      "1497it [07:55,  2.78it/s]"
     ]
    },
    {
     "name": "stdout",
     "output_type": "stream",
     "text": [
      "Fit not found:\n",
      "1496\n"
     ]
    },
    {
     "name": "stderr",
     "output_type": "stream",
     "text": [
      "1618it [08:31,  2.71it/s]"
     ]
    },
    {
     "name": "stdout",
     "output_type": "stream",
     "text": [
      "Fit not found:\n",
      "1617\n"
     ]
    },
    {
     "name": "stderr",
     "output_type": "stream",
     "text": [
      "1735it [09:10,  2.47it/s]"
     ]
    },
    {
     "name": "stdout",
     "output_type": "stream",
     "text": [
      "Fit not found:\n",
      "1734\n"
     ]
    },
    {
     "name": "stderr",
     "output_type": "stream",
     "text": [
      "1910it [10:09,  2.88it/s]"
     ]
    },
    {
     "name": "stdout",
     "output_type": "stream",
     "text": [
      "Fit not found:\n",
      "1909\n"
     ]
    },
    {
     "name": "stderr",
     "output_type": "stream",
     "text": [
      "2157it [11:24,  2.52it/s]"
     ]
    },
    {
     "name": "stdout",
     "output_type": "stream",
     "text": [
      "Fit not found:\n",
      "2156\n"
     ]
    },
    {
     "name": "stderr",
     "output_type": "stream",
     "text": [
      "2520it [13:19,  2.53it/s]"
     ]
    },
    {
     "name": "stdout",
     "output_type": "stream",
     "text": [
      "Fit not found:\n",
      "2519\n"
     ]
    },
    {
     "name": "stderr",
     "output_type": "stream",
     "text": [
      "2522it [13:20,  2.38it/s]"
     ]
    },
    {
     "name": "stdout",
     "output_type": "stream",
     "text": [
      "Fit not found:\n",
      "2521\n"
     ]
    },
    {
     "name": "stderr",
     "output_type": "stream",
     "text": [
      "2644it [14:00,  1.99it/s]"
     ]
    },
    {
     "name": "stdout",
     "output_type": "stream",
     "text": [
      "Fit not found:\n",
      "2643\n"
     ]
    },
    {
     "name": "stderr",
     "output_type": "stream",
     "text": [
      "2756it [14:35,  2.81it/s]"
     ]
    },
    {
     "name": "stdout",
     "output_type": "stream",
     "text": [
      "Fit not found:\n",
      "2755\n"
     ]
    },
    {
     "name": "stderr",
     "output_type": "stream",
     "text": [
      "2757it [14:35,  2.48it/s]"
     ]
    },
    {
     "name": "stdout",
     "output_type": "stream",
     "text": [
      "Fit not found:\n",
      "2756\n"
     ]
    },
    {
     "name": "stderr",
     "output_type": "stream",
     "text": [
      "2761it [14:36,  2.59it/s]"
     ]
    },
    {
     "name": "stdout",
     "output_type": "stream",
     "text": [
      "Fit not found:\n",
      "2760\n"
     ]
    },
    {
     "name": "stderr",
     "output_type": "stream",
     "text": [
      "2764it [14:38,  2.55it/s]"
     ]
    },
    {
     "name": "stdout",
     "output_type": "stream",
     "text": [
      "Fit not found:\n",
      "2763\n"
     ]
    },
    {
     "name": "stderr",
     "output_type": "stream",
     "text": [
      "2765it [14:38,  2.27it/s]"
     ]
    },
    {
     "name": "stdout",
     "output_type": "stream",
     "text": [
      "Fit not found:\n",
      "2764\n"
     ]
    },
    {
     "name": "stderr",
     "output_type": "stream",
     "text": [
      "2883it [15:16,  2.84it/s]"
     ]
    },
    {
     "name": "stdout",
     "output_type": "stream",
     "text": [
      "Fit not found:\n",
      "2882\n"
     ]
    },
    {
     "name": "stderr",
     "output_type": "stream",
     "text": [
      "2885it [15:17,  2.54it/s]"
     ]
    },
    {
     "name": "stdout",
     "output_type": "stream",
     "text": [
      "Fit not found:\n",
      "2884\n"
     ]
    },
    {
     "name": "stderr",
     "output_type": "stream",
     "text": [
      "2993it [15:56,  1.94it/s]"
     ]
    },
    {
     "name": "stdout",
     "output_type": "stream",
     "text": [
      "Fit not found:\n",
      "2992\n"
     ]
    },
    {
     "name": "stderr",
     "output_type": "stream",
     "text": [
      "3006it [16:01,  2.12it/s]"
     ]
    },
    {
     "name": "stdout",
     "output_type": "stream",
     "text": [
      "Fit not found:\n",
      "3005\n"
     ]
    },
    {
     "name": "stderr",
     "output_type": "stream",
     "text": [
      "3007it [16:02,  1.99it/s]"
     ]
    },
    {
     "name": "stdout",
     "output_type": "stream",
     "text": [
      "Fit not found:\n",
      "3006\n"
     ]
    },
    {
     "name": "stderr",
     "output_type": "stream",
     "text": [
      "3106it [16:34,  2.39it/s]"
     ]
    },
    {
     "name": "stdout",
     "output_type": "stream",
     "text": [
      "Fit not found:\n",
      "3105\n"
     ]
    },
    {
     "name": "stderr",
     "output_type": "stream",
     "text": [
      "3127it [16:41,  2.50it/s]"
     ]
    },
    {
     "name": "stdout",
     "output_type": "stream",
     "text": [
      "Fit not found:\n",
      "3126\n"
     ]
    },
    {
     "name": "stderr",
     "output_type": "stream",
     "text": [
      "3128it [16:42,  2.26it/s]"
     ]
    },
    {
     "name": "stdout",
     "output_type": "stream",
     "text": [
      "Fit not found:\n",
      "3127\n"
     ]
    },
    {
     "name": "stderr",
     "output_type": "stream",
     "text": [
      "3226it [17:15,  2.55it/s]"
     ]
    },
    {
     "name": "stdout",
     "output_type": "stream",
     "text": [
      "Fit not found:\n",
      "3225\n"
     ]
    },
    {
     "name": "stderr",
     "output_type": "stream",
     "text": [
      "3227it [17:15,  2.34it/s]"
     ]
    },
    {
     "name": "stdout",
     "output_type": "stream",
     "text": [
      "Fit not found:\n",
      "3226\n"
     ]
    },
    {
     "name": "stderr",
     "output_type": "stream",
     "text": [
      "3250it [17:24,  2.27it/s]"
     ]
    },
    {
     "name": "stdout",
     "output_type": "stream",
     "text": [
      "Fit not found:\n",
      "3249\n"
     ]
    },
    {
     "name": "stderr",
     "output_type": "stream",
     "text": [
      "3251it [17:24,  2.11it/s]"
     ]
    },
    {
     "name": "stdout",
     "output_type": "stream",
     "text": [
      "Fit not found:\n",
      "3250\n"
     ]
    },
    {
     "name": "stderr",
     "output_type": "stream",
     "text": [
      "3252it [17:25,  2.09it/s]"
     ]
    },
    {
     "name": "stdout",
     "output_type": "stream",
     "text": [
      "Fit not found:\n",
      "3251\n"
     ]
    },
    {
     "name": "stderr",
     "output_type": "stream",
     "text": [
      "3343it [17:56,  2.55it/s]"
     ]
    },
    {
     "name": "stdout",
     "output_type": "stream",
     "text": [
      "Fit not found:\n",
      "3342\n"
     ]
    },
    {
     "name": "stderr",
     "output_type": "stream",
     "text": [
      "3347it [17:58,  2.58it/s]"
     ]
    },
    {
     "name": "stdout",
     "output_type": "stream",
     "text": [
      "Fit not found:\n",
      "3346\n"
     ]
    },
    {
     "name": "stderr",
     "output_type": "stream",
     "text": [
      "3348it [17:58,  2.39it/s]"
     ]
    },
    {
     "name": "stdout",
     "output_type": "stream",
     "text": [
      "Fit not found:\n",
      "3347\n"
     ]
    },
    {
     "name": "stderr",
     "output_type": "stream",
     "text": [
      "3349it [17:59,  2.18it/s]"
     ]
    },
    {
     "name": "stdout",
     "output_type": "stream",
     "text": [
      "Fit not found:\n",
      "3348\n"
     ]
    },
    {
     "name": "stderr",
     "output_type": "stream",
     "text": [
      "3352it [18:00,  2.24it/s]"
     ]
    },
    {
     "name": "stdout",
     "output_type": "stream",
     "text": [
      "Fit not found:\n",
      "3351\n"
     ]
    },
    {
     "name": "stderr",
     "output_type": "stream",
     "text": [
      "3353it [18:01,  2.17it/s]"
     ]
    },
    {
     "name": "stdout",
     "output_type": "stream",
     "text": [
      "Fit not found:\n",
      "3352\n"
     ]
    },
    {
     "name": "stderr",
     "output_type": "stream",
     "text": [
      "3369it [18:06,  2.62it/s]"
     ]
    },
    {
     "name": "stdout",
     "output_type": "stream",
     "text": [
      "Fit not found:\n",
      "3368\n"
     ]
    },
    {
     "name": "stderr",
     "output_type": "stream",
     "text": [
      "3370it [18:06,  2.42it/s]"
     ]
    },
    {
     "name": "stdout",
     "output_type": "stream",
     "text": [
      "Fit not found:\n",
      "3369\n"
     ]
    },
    {
     "name": "stderr",
     "output_type": "stream",
     "text": [
      "3372it [18:07,  1.88it/s]"
     ]
    },
    {
     "name": "stdout",
     "output_type": "stream",
     "text": [
      "Fit not found:\n",
      "3371\n"
     ]
    },
    {
     "name": "stderr",
     "output_type": "stream",
     "text": [
      "3464it [18:38,  2.78it/s]"
     ]
    },
    {
     "name": "stdout",
     "output_type": "stream",
     "text": [
      "Fit not found:\n",
      "3463\n"
     ]
    },
    {
     "name": "stderr",
     "output_type": "stream",
     "text": [
      "3469it [18:39,  2.72it/s]"
     ]
    },
    {
     "name": "stdout",
     "output_type": "stream",
     "text": [
      "Fit not found:\n",
      "3468\n"
     ]
    },
    {
     "name": "stderr",
     "output_type": "stream",
     "text": [
      "3491it [18:46,  2.63it/s]"
     ]
    },
    {
     "name": "stdout",
     "output_type": "stream",
     "text": [
      "Fit not found:\n",
      "3490\n"
     ]
    },
    {
     "name": "stderr",
     "output_type": "stream",
     "text": [
      "3494it [18:47,  2.58it/s]"
     ]
    },
    {
     "name": "stdout",
     "output_type": "stream",
     "text": [
      "Fit not found:\n",
      "3493\n"
     ]
    },
    {
     "name": "stderr",
     "output_type": "stream",
     "text": [
      "3495it [18:48,  2.36it/s]"
     ]
    },
    {
     "name": "stdout",
     "output_type": "stream",
     "text": [
      "Fit not found:\n",
      "3494\n"
     ]
    },
    {
     "name": "stderr",
     "output_type": "stream",
     "text": [
      "3500it [18:50,  2.59it/s]"
     ]
    },
    {
     "name": "stdout",
     "output_type": "stream",
     "text": [
      "Fit not found:\n",
      "3499\n"
     ]
    },
    {
     "name": "stderr",
     "output_type": "stream",
     "text": [
      "3614it [19:24,  2.59it/s]"
     ]
    },
    {
     "name": "stdout",
     "output_type": "stream",
     "text": [
      "Fit not found:\n",
      "3613\n"
     ]
    },
    {
     "name": "stderr",
     "output_type": "stream",
     "text": [
      "3615it [19:24,  2.31it/s]"
     ]
    },
    {
     "name": "stdout",
     "output_type": "stream",
     "text": [
      "Fit not found:\n",
      "3614\n"
     ]
    },
    {
     "name": "stderr",
     "output_type": "stream",
     "text": [
      "3616it [19:25,  2.15it/s]"
     ]
    },
    {
     "name": "stdout",
     "output_type": "stream",
     "text": [
      "Fit not found:\n",
      "3615\n"
     ]
    },
    {
     "name": "stderr",
     "output_type": "stream",
     "text": [
      "3707it [19:51,  2.79it/s]"
     ]
    },
    {
     "name": "stdout",
     "output_type": "stream",
     "text": [
      "Fit not found:\n",
      "3706\n"
     ]
    },
    {
     "name": "stderr",
     "output_type": "stream",
     "text": [
      "3737it [20:01,  2.63it/s]"
     ]
    },
    {
     "name": "stdout",
     "output_type": "stream",
     "text": [
      "Fit not found:\n",
      "3736\n"
     ]
    },
    {
     "name": "stderr",
     "output_type": "stream",
     "text": [
      "3738it [20:01,  2.34it/s]"
     ]
    },
    {
     "name": "stdout",
     "output_type": "stream",
     "text": [
      "Fit not found:\n",
      "3737\n"
     ]
    },
    {
     "name": "stderr",
     "output_type": "stream",
     "text": [
      "3860it [20:38,  2.64it/s]"
     ]
    },
    {
     "name": "stdout",
     "output_type": "stream",
     "text": [
      "Fit not found:\n",
      "3859\n"
     ]
    },
    {
     "name": "stderr",
     "output_type": "stream",
     "text": [
      "3861it [20:38,  2.38it/s]"
     ]
    },
    {
     "name": "stdout",
     "output_type": "stream",
     "text": [
      "Fit not found:\n",
      "3860\n"
     ]
    },
    {
     "name": "stderr",
     "output_type": "stream",
     "text": [
      "3979it [21:13,  2.77it/s]"
     ]
    },
    {
     "name": "stdout",
     "output_type": "stream",
     "text": [
      "Fit not found:\n",
      "3978\n"
     ]
    },
    {
     "name": "stderr",
     "output_type": "stream",
     "text": [
      "3980it [21:13,  2.39it/s]"
     ]
    },
    {
     "name": "stdout",
     "output_type": "stream",
     "text": [
      "Fit not found:\n",
      "3979\n"
     ]
    },
    {
     "name": "stderr",
     "output_type": "stream",
     "text": [
      "3982it [21:14,  2.18it/s]"
     ]
    },
    {
     "name": "stdout",
     "output_type": "stream",
     "text": [
      "Fit not found:\n",
      "3981\n"
     ]
    },
    {
     "name": "stderr",
     "output_type": "stream",
     "text": [
      "4097it [21:49,  2.89it/s]"
     ]
    },
    {
     "name": "stdout",
     "output_type": "stream",
     "text": [
      "Fit not found:\n",
      "4096\n"
     ]
    },
    {
     "name": "stderr",
     "output_type": "stream",
     "text": [
      "4101it [21:51,  2.78it/s]"
     ]
    },
    {
     "name": "stdout",
     "output_type": "stream",
     "text": [
      "Fit not found:\n",
      "4100\n"
     ]
    },
    {
     "name": "stderr",
     "output_type": "stream",
     "text": [
      "4103it [21:51,  2.57it/s]"
     ]
    },
    {
     "name": "stdout",
     "output_type": "stream",
     "text": [
      "Fit not found:\n",
      "4102\n"
     ]
    },
    {
     "name": "stderr",
     "output_type": "stream",
     "text": [
      "6510it [33:30,  2.83it/s]"
     ]
    },
    {
     "name": "stdout",
     "output_type": "stream",
     "text": [
      "Fit not found:\n",
      "6509\n"
     ]
    },
    {
     "name": "stderr",
     "output_type": "stream",
     "text": [
      "6841it [35:18,  2.59it/s]"
     ]
    },
    {
     "name": "stdout",
     "output_type": "stream",
     "text": [
      "Fit not found:\n",
      "6840\n"
     ]
    },
    {
     "name": "stderr",
     "output_type": "stream",
     "text": [
      "6842it [35:19,  1.92it/s]"
     ]
    },
    {
     "name": "stdout",
     "output_type": "stream",
     "text": [
      "Fit not found:\n",
      "6841\n"
     ]
    },
    {
     "name": "stderr",
     "output_type": "stream",
     "text": [
      "7531it [38:54,  2.16it/s]"
     ]
    },
    {
     "name": "stdout",
     "output_type": "stream",
     "text": [
      "Fit not found:\n",
      "7530\n"
     ]
    },
    {
     "name": "stderr",
     "output_type": "stream",
     "text": [
      "7808it [40:32,  2.64it/s]"
     ]
    },
    {
     "name": "stdout",
     "output_type": "stream",
     "text": [
      "Fit not found:\n",
      "7807\n"
     ]
    },
    {
     "name": "stderr",
     "output_type": "stream",
     "text": [
      "8542it [44:20,  1.96it/s]"
     ]
    },
    {
     "name": "stdout",
     "output_type": "stream",
     "text": [
      "Fit not found:\n",
      "8541\n"
     ]
    },
    {
     "name": "stderr",
     "output_type": "stream",
     "text": [
      "12221it [1:04:41,  3.15it/s]\n"
     ]
    }
   ],
   "source": [
    "#resolution = np.zeros((xdim*ydim))\n",
    "resolution_popt = np.zeros((xdim*ydim, 3))\n",
    "resolution_perr = np.zeros((xdim*ydim, 3))\n",
    "\n",
    "for index, row in tqdm(data.iterrows()):\n",
    "    \n",
    "    radius = np.array(np.sqrt((data.x-row.x)**2 + (data.y-row.y)**2))\n",
    "    probs  = calc_prob(channels, ydim, xdim, freqID, index, noise, noise_level)\n",
    "    \n",
    "    radius = np.delete(radius, index)\n",
    "    probs  = np.delete(probs,  index)\n",
    "    \n",
    "    try:\n",
    "        popt_exponential, pcov_exponential = optimize.curve_fit(exponential, radius, probs, p0=[10, -0.5, 0])\n",
    "        perr_exponential = np.sqrt(np.diag(pcov_exponential))\n",
    "        \n",
    "        resolution_popt[index,:] = popt_exponential\n",
    "        resolution_perr[index,:] = perr_exponential\n",
    "        \n",
    "        #y0 = exponential(0., popt_exponential[0], popt_exponential[1], popt_exponential[2])\n",
    "        #xhalf = np.log((y0/2 - popt_exponential[2])/popt_exponential[0])/popt_exponential[1]\n",
    "    except RuntimeError:\n",
    "        print('Fit not found:')\n",
    "        print(index)\n",
    "        resolution_popt[index,:] = [np.nan, np.nan, np.nan]\n",
    "        resolution_perr[index,:] = [np.nan, np.nan, np.nan]"
   ]
  },
  {
   "cell_type": "code",
   "execution_count": 91,
   "metadata": {},
   "outputs": [],
   "source": [
    "#data['res'] = resolution\n",
    "data['res_a']     = resolution_popt[:,0]\n",
    "data['res_a_err'] = resolution_perr[:,0]\n",
    "data['res_k']     = resolution_popt[:,1]\n",
    "data['res_k_err'] = resolution_perr[:,1]\n",
    "data['res_b']     = resolution_popt[:,2]\n",
    "data['res_b_err'] = resolution_perr[:,2]"
   ]
  },
  {
   "cell_type": "code",
   "execution_count": 92,
   "metadata": {},
   "outputs": [
    {
     "data": {
      "text/html": [
       "<div>\n",
       "<style scoped>\n",
       "    .dataframe tbody tr th:only-of-type {\n",
       "        vertical-align: middle;\n",
       "    }\n",
       "\n",
       "    .dataframe tbody tr th {\n",
       "        vertical-align: top;\n",
       "    }\n",
       "\n",
       "    .dataframe thead th {\n",
       "        text-align: right;\n",
       "    }\n",
       "</style>\n",
       "<table border=\"1\" class=\"dataframe\">\n",
       "  <thead>\n",
       "    <tr style=\"text-align: right;\">\n",
       "      <th></th>\n",
       "      <th>x</th>\n",
       "      <th>y</th>\n",
       "      <th>z</th>\n",
       "      <th>res_a</th>\n",
       "      <th>res_a_err</th>\n",
       "      <th>res_k</th>\n",
       "      <th>res_k_err</th>\n",
       "      <th>res_b</th>\n",
       "      <th>res_b_err</th>\n",
       "    </tr>\n",
       "  </thead>\n",
       "  <tbody>\n",
       "    <tr>\n",
       "      <th>0</th>\n",
       "      <td>640.0</td>\n",
       "      <td>400.0</td>\n",
       "      <td>671.8667</td>\n",
       "      <td>28.222763</td>\n",
       "      <td>0.325559</td>\n",
       "      <td>-0.018798</td>\n",
       "      <td>0.000187</td>\n",
       "      <td>0.607923</td>\n",
       "      <td>0.006384</td>\n",
       "    </tr>\n",
       "    <tr>\n",
       "      <th>1</th>\n",
       "      <td>650.0</td>\n",
       "      <td>400.0</td>\n",
       "      <td>672.2667</td>\n",
       "      <td>23.039543</td>\n",
       "      <td>0.208644</td>\n",
       "      <td>-0.015724</td>\n",
       "      <td>0.000130</td>\n",
       "      <td>0.592287</td>\n",
       "      <td>0.005517</td>\n",
       "    </tr>\n",
       "    <tr>\n",
       "      <th>2</th>\n",
       "      <td>660.0</td>\n",
       "      <td>400.0</td>\n",
       "      <td>672.6667</td>\n",
       "      <td>21.563709</td>\n",
       "      <td>0.209436</td>\n",
       "      <td>-0.016321</td>\n",
       "      <td>0.000149</td>\n",
       "      <td>0.598978</td>\n",
       "      <td>0.005689</td>\n",
       "    </tr>\n",
       "    <tr>\n",
       "      <th>3</th>\n",
       "      <td>670.0</td>\n",
       "      <td>400.0</td>\n",
       "      <td>673.0667</td>\n",
       "      <td>44.730404</td>\n",
       "      <td>0.516055</td>\n",
       "      <td>-0.031618</td>\n",
       "      <td>0.000334</td>\n",
       "      <td>0.650724</td>\n",
       "      <td>0.007321</td>\n",
       "    </tr>\n",
       "    <tr>\n",
       "      <th>4</th>\n",
       "      <td>680.0</td>\n",
       "      <td>400.0</td>\n",
       "      <td>673.8667</td>\n",
       "      <td>59.796295</td>\n",
       "      <td>0.709342</td>\n",
       "      <td>-0.042727</td>\n",
       "      <td>0.000433</td>\n",
       "      <td>0.665683</td>\n",
       "      <td>0.007225</td>\n",
       "    </tr>\n",
       "  </tbody>\n",
       "</table>\n",
       "</div>"
      ],
      "text/plain": [
       "       x      y         z      res_a  res_a_err     res_k  res_k_err  \\\n",
       "0  640.0  400.0  671.8667  28.222763   0.325559 -0.018798   0.000187   \n",
       "1  650.0  400.0  672.2667  23.039543   0.208644 -0.015724   0.000130   \n",
       "2  660.0  400.0  672.6667  21.563709   0.209436 -0.016321   0.000149   \n",
       "3  670.0  400.0  673.0667  44.730404   0.516055 -0.031618   0.000334   \n",
       "4  680.0  400.0  673.8667  59.796295   0.709342 -0.042727   0.000433   \n",
       "\n",
       "      res_b  res_b_err  \n",
       "0  0.607923   0.006384  \n",
       "1  0.592287   0.005517  \n",
       "2  0.598978   0.005689  \n",
       "3  0.650724   0.007321  \n",
       "4  0.665683   0.007225  "
      ]
     },
     "execution_count": 92,
     "metadata": {},
     "output_type": "execute_result"
    }
   ],
   "source": [
    "data.head()"
   ]
  },
  {
   "cell_type": "code",
   "execution_count": 93,
   "metadata": {},
   "outputs": [],
   "source": [
    "data.to_csv('resolution/resolution_exp_Z_'+freqID+'.csv', index=False)"
   ]
  },
  {
   "cell_type": "code",
   "execution_count": null,
   "metadata": {},
   "outputs": [],
   "source": []
  }
 ],
 "metadata": {
  "kernelspec": {
   "display_name": "Python 3",
   "language": "python",
   "name": "python3"
  },
  "language_info": {
   "codemirror_mode": {
    "name": "ipython",
    "version": 3
   },
   "file_extension": ".py",
   "mimetype": "text/x-python",
   "name": "python",
   "nbconvert_exporter": "python",
   "pygments_lexer": "ipython3",
   "version": "3.7.3"
  }
 },
 "nbformat": 4,
 "nbformat_minor": 4
}
